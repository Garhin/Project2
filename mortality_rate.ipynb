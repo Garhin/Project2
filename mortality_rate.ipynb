{
 "cells": [
  {
   "cell_type": "code",
   "execution_count": 1,
   "metadata": {},
   "outputs": [],
   "source": [
    "from numpy import genfromtxt\n",
    "from time import time\n",
    "from datetime import datetime\n",
    "from sqlalchemy import Column, Integer, Float, Date\n",
    "from sqlalchemy.ext.declarative import declarative_base\n",
    "from sqlalchemy import create_engine\n",
    "from sqlalchemy.orm import sessionmaker\n",
    "import numpy as np\n",
    "import random\n",
    "import pandas as pd\n",
    "import matplotlib.pyplot as plt"
   ]
  },
  {
   "cell_type": "code",
   "execution_count": 2,
   "metadata": {},
   "outputs": [],
   "source": [
    "data = pd.read_csv('Joined Data.csv')"
   ]
  },
  {
   "cell_type": "code",
   "execution_count": 3,
   "metadata": {},
   "outputs": [
    {
     "data": {
      "text/html": [
       "<div>\n",
       "<style scoped>\n",
       "    .dataframe tbody tr th:only-of-type {\n",
       "        vertical-align: middle;\n",
       "    }\n",
       "\n",
       "    .dataframe tbody tr th {\n",
       "        vertical-align: top;\n",
       "    }\n",
       "\n",
       "    .dataframe thead th {\n",
       "        text-align: right;\n",
       "    }\n",
       "</style>\n",
       "<table border=\"1\" class=\"dataframe\">\n",
       "  <thead>\n",
       "    <tr style=\"text-align: right;\">\n",
       "      <th></th>\n",
       "      <th>frequency</th>\n",
       "      <th>indicator</th>\n",
       "      <th>location</th>\n",
       "      <th>time</th>\n",
       "      <th>value</th>\n",
       "      <th>subject</th>\n",
       "      <th>frequency-2</th>\n",
       "      <th>indicator-2</th>\n",
       "      <th>location-2</th>\n",
       "      <th>time-2</th>\n",
       "      <th>Value</th>\n",
       "      <th>subject-2</th>\n",
       "    </tr>\n",
       "  </thead>\n",
       "  <tbody>\n",
       "    <tr>\n",
       "      <th>0</th>\n",
       "      <td>A</td>\n",
       "      <td>INFANTMORTALITY</td>\n",
       "      <td>AUS</td>\n",
       "      <td>2019</td>\n",
       "      <td>3.3</td>\n",
       "      <td>TOT</td>\n",
       "      <td>A</td>\n",
       "      <td>LIFEEXP</td>\n",
       "      <td>AUS</td>\n",
       "      <td>2016</td>\n",
       "      <td>80.4</td>\n",
       "      <td>MEN</td>\n",
       "    </tr>\n",
       "    <tr>\n",
       "      <th>1</th>\n",
       "      <td>A</td>\n",
       "      <td>INFANTMORTALITY</td>\n",
       "      <td>AUS</td>\n",
       "      <td>2018</td>\n",
       "      <td>3.1</td>\n",
       "      <td>TOT</td>\n",
       "      <td>A</td>\n",
       "      <td>LIFEEXP</td>\n",
       "      <td>AUS</td>\n",
       "      <td>2016</td>\n",
       "      <td>80.4</td>\n",
       "      <td>MEN</td>\n",
       "    </tr>\n",
       "    <tr>\n",
       "      <th>2</th>\n",
       "      <td>A</td>\n",
       "      <td>INFANTMORTALITY</td>\n",
       "      <td>AUS</td>\n",
       "      <td>2017</td>\n",
       "      <td>3.3</td>\n",
       "      <td>TOT</td>\n",
       "      <td>A</td>\n",
       "      <td>LIFEEXP</td>\n",
       "      <td>AUS</td>\n",
       "      <td>2016</td>\n",
       "      <td>80.4</td>\n",
       "      <td>MEN</td>\n",
       "    </tr>\n",
       "    <tr>\n",
       "      <th>3</th>\n",
       "      <td>A</td>\n",
       "      <td>INFANTMORTALITY</td>\n",
       "      <td>AUS</td>\n",
       "      <td>2016</td>\n",
       "      <td>3.1</td>\n",
       "      <td>TOT</td>\n",
       "      <td>A</td>\n",
       "      <td>LIFEEXP</td>\n",
       "      <td>AUS</td>\n",
       "      <td>2016</td>\n",
       "      <td>80.4</td>\n",
       "      <td>MEN</td>\n",
       "    </tr>\n",
       "    <tr>\n",
       "      <th>4</th>\n",
       "      <td>A</td>\n",
       "      <td>INFANTMORTALITY</td>\n",
       "      <td>AUS</td>\n",
       "      <td>2019</td>\n",
       "      <td>3.3</td>\n",
       "      <td>TOT</td>\n",
       "      <td>A</td>\n",
       "      <td>LIFEEXP</td>\n",
       "      <td>AUS</td>\n",
       "      <td>2017</td>\n",
       "      <td>80.5</td>\n",
       "      <td>MEN</td>\n",
       "    </tr>\n",
       "  </tbody>\n",
       "</table>\n",
       "</div>"
      ],
      "text/plain": [
       "  frequency        indicator location  time  value subject frequency-2  \\\n",
       "0         A  INFANTMORTALITY      AUS  2019    3.3     TOT           A   \n",
       "1         A  INFANTMORTALITY      AUS  2018    3.1     TOT           A   \n",
       "2         A  INFANTMORTALITY      AUS  2017    3.3     TOT           A   \n",
       "3         A  INFANTMORTALITY      AUS  2016    3.1     TOT           A   \n",
       "4         A  INFANTMORTALITY      AUS  2019    3.3     TOT           A   \n",
       "\n",
       "  indicator-2 location-2  time-2  Value subject-2  \n",
       "0     LIFEEXP        AUS    2016   80.4       MEN  \n",
       "1     LIFEEXP        AUS    2016   80.4       MEN  \n",
       "2     LIFEEXP        AUS    2016   80.4       MEN  \n",
       "3     LIFEEXP        AUS    2016   80.4       MEN  \n",
       "4     LIFEEXP        AUS    2017   80.5       MEN  "
      ]
     },
     "execution_count": 3,
     "metadata": {},
     "output_type": "execute_result"
    }
   ],
   "source": [
    "data.head()"
   ]
  },
  {
   "cell_type": "code",
   "execution_count": 4,
   "metadata": {},
   "outputs": [],
   "source": [
    "infant_mortality = \"Infant Mortality.csv\"\n",
    "life_expectancy_at_birth = \"Life Expectancy at Birth.csv\"\n",
    "\n",
    "infant_mortality = pd.read_csv(infant_mortality)\n",
    "life_expectancy_at_birth = pd.read_csv(life_expectancy_at_birth)"
   ]
  },
  {
   "cell_type": "code",
   "execution_count": 5,
   "metadata": {},
   "outputs": [
    {
     "data": {
      "text/html": [
       "<div>\n",
       "<style scoped>\n",
       "    .dataframe tbody tr th:only-of-type {\n",
       "        vertical-align: middle;\n",
       "    }\n",
       "\n",
       "    .dataframe tbody tr th {\n",
       "        vertical-align: top;\n",
       "    }\n",
       "\n",
       "    .dataframe thead th {\n",
       "        text-align: right;\n",
       "    }\n",
       "</style>\n",
       "<table border=\"1\" class=\"dataframe\">\n",
       "  <thead>\n",
       "    <tr style=\"text-align: right;\">\n",
       "      <th></th>\n",
       "      <th>frequency_x</th>\n",
       "      <th>indicator_x</th>\n",
       "      <th>location</th>\n",
       "      <th>time_x</th>\n",
       "      <th>value</th>\n",
       "      <th>subject_x</th>\n",
       "      <th>frequency_y</th>\n",
       "      <th>indicator_y</th>\n",
       "      <th>time_y</th>\n",
       "      <th>Value</th>\n",
       "      <th>subject_y</th>\n",
       "    </tr>\n",
       "  </thead>\n",
       "  <tbody>\n",
       "    <tr>\n",
       "      <th>0</th>\n",
       "      <td>A</td>\n",
       "      <td>INFANTMORTALITY</td>\n",
       "      <td>AUS</td>\n",
       "      <td>2016</td>\n",
       "      <td>3.1</td>\n",
       "      <td>TOT</td>\n",
       "      <td>A</td>\n",
       "      <td>LIFEEXP</td>\n",
       "      <td>2016</td>\n",
       "      <td>80.4</td>\n",
       "      <td>MEN</td>\n",
       "    </tr>\n",
       "    <tr>\n",
       "      <th>1</th>\n",
       "      <td>A</td>\n",
       "      <td>INFANTMORTALITY</td>\n",
       "      <td>AUS</td>\n",
       "      <td>2016</td>\n",
       "      <td>3.1</td>\n",
       "      <td>TOT</td>\n",
       "      <td>A</td>\n",
       "      <td>LIFEEXP</td>\n",
       "      <td>2017</td>\n",
       "      <td>80.5</td>\n",
       "      <td>MEN</td>\n",
       "    </tr>\n",
       "    <tr>\n",
       "      <th>2</th>\n",
       "      <td>A</td>\n",
       "      <td>INFANTMORTALITY</td>\n",
       "      <td>AUS</td>\n",
       "      <td>2016</td>\n",
       "      <td>3.1</td>\n",
       "      <td>TOT</td>\n",
       "      <td>A</td>\n",
       "      <td>LIFEEXP</td>\n",
       "      <td>2018</td>\n",
       "      <td>80.7</td>\n",
       "      <td>MEN</td>\n",
       "    </tr>\n",
       "    <tr>\n",
       "      <th>3</th>\n",
       "      <td>A</td>\n",
       "      <td>INFANTMORTALITY</td>\n",
       "      <td>AUS</td>\n",
       "      <td>2016</td>\n",
       "      <td>3.1</td>\n",
       "      <td>TOT</td>\n",
       "      <td>A</td>\n",
       "      <td>LIFEEXP</td>\n",
       "      <td>2019</td>\n",
       "      <td>80.9</td>\n",
       "      <td>MEN</td>\n",
       "    </tr>\n",
       "    <tr>\n",
       "      <th>4</th>\n",
       "      <td>A</td>\n",
       "      <td>INFANTMORTALITY</td>\n",
       "      <td>AUS</td>\n",
       "      <td>2016</td>\n",
       "      <td>3.1</td>\n",
       "      <td>TOT</td>\n",
       "      <td>A</td>\n",
       "      <td>LIFEEXP</td>\n",
       "      <td>2016</td>\n",
       "      <td>82.5</td>\n",
       "      <td>TOT</td>\n",
       "    </tr>\n",
       "  </tbody>\n",
       "</table>\n",
       "</div>"
      ],
      "text/plain": [
       "  frequency_x      indicator_x location  time_x  value subject_x frequency_y  \\\n",
       "0           A  INFANTMORTALITY      AUS    2016    3.1       TOT           A   \n",
       "1           A  INFANTMORTALITY      AUS    2016    3.1       TOT           A   \n",
       "2           A  INFANTMORTALITY      AUS    2016    3.1       TOT           A   \n",
       "3           A  INFANTMORTALITY      AUS    2016    3.1       TOT           A   \n",
       "4           A  INFANTMORTALITY      AUS    2016    3.1       TOT           A   \n",
       "\n",
       "  indicator_y  time_y  Value subject_y  \n",
       "0     LIFEEXP    2016   80.4       MEN  \n",
       "1     LIFEEXP    2017   80.5       MEN  \n",
       "2     LIFEEXP    2018   80.7       MEN  \n",
       "3     LIFEEXP    2019   80.9       MEN  \n",
       "4     LIFEEXP    2016   82.5       TOT  "
      ]
     },
     "execution_count": 5,
     "metadata": {},
     "output_type": "execute_result"
    }
   ],
   "source": [
    "data_df = pd.merge(infant_mortality, life_expectancy_at_birth, how = \"left\", on=\"location\")\n",
    "data_df.head()"
   ]
  },
  {
   "cell_type": "code",
   "execution_count": 6,
   "metadata": {
    "scrolled": true
   },
   "outputs": [
    {
     "data": {
      "text/html": [
       "<div>\n",
       "<style scoped>\n",
       "    .dataframe tbody tr th:only-of-type {\n",
       "        vertical-align: middle;\n",
       "    }\n",
       "\n",
       "    .dataframe tbody tr th {\n",
       "        vertical-align: top;\n",
       "    }\n",
       "\n",
       "    .dataframe thead th {\n",
       "        text-align: right;\n",
       "    }\n",
       "</style>\n",
       "<table border=\"1\" class=\"dataframe\">\n",
       "  <thead>\n",
       "    <tr style=\"text-align: right;\">\n",
       "      <th></th>\n",
       "      <th>Mean</th>\n",
       "      <th>Median</th>\n",
       "      <th>Standard Deviation</th>\n",
       "    </tr>\n",
       "    <tr>\n",
       "      <th>location</th>\n",
       "      <th></th>\n",
       "      <th></th>\n",
       "      <th></th>\n",
       "    </tr>\n",
       "  </thead>\n",
       "  <tbody>\n",
       "    <tr>\n",
       "      <th>AUS</th>\n",
       "      <td>3.200</td>\n",
       "      <td>3.20</td>\n",
       "      <td>0.101058</td>\n",
       "    </tr>\n",
       "    <tr>\n",
       "      <th>AUT</th>\n",
       "      <td>2.900</td>\n",
       "      <td>2.90</td>\n",
       "      <td>0.142615</td>\n",
       "    </tr>\n",
       "    <tr>\n",
       "      <th>BEL</th>\n",
       "      <td>3.575</td>\n",
       "      <td>3.65</td>\n",
       "      <td>0.229683</td>\n",
       "    </tr>\n",
       "    <tr>\n",
       "      <th>BRA</th>\n",
       "      <td>13.250</td>\n",
       "      <td>13.00</td>\n",
       "      <td>0.837931</td>\n",
       "    </tr>\n",
       "    <tr>\n",
       "      <th>CAN</th>\n",
       "      <td>4.525</td>\n",
       "      <td>4.50</td>\n",
       "      <td>0.110126</td>\n",
       "    </tr>\n",
       "  </tbody>\n",
       "</table>\n",
       "</div>"
      ],
      "text/plain": [
       "            Mean  Median  Standard Deviation\n",
       "location                                    \n",
       "AUS        3.200    3.20            0.101058\n",
       "AUT        2.900    2.90            0.142615\n",
       "BEL        3.575    3.65            0.229683\n",
       "BRA       13.250   13.00            0.837931\n",
       "CAN        4.525    4.50            0.110126"
      ]
     },
     "execution_count": 6,
     "metadata": {},
     "output_type": "execute_result"
    }
   ],
   "source": [
    "mean = data_df.groupby('location').mean()[\"value\"]\n",
    "median = data_df.groupby('location').median()[\"value\"]\n",
    "standard_deviation = data_df.groupby('location').std()[\"value\"]\n",
    "\n",
    "data = {\n",
    "        'Mean': mean,\n",
    "        'Median': median,\n",
    "        'Standard Deviation' : standard_deviation,\n",
    "}\n",
    "\n",
    "summary_table = pd.DataFrame(data)\n",
    "summary_table.head()\n",
    "\n"
   ]
  },
  {
   "cell_type": "code",
   "execution_count": 7,
   "metadata": {},
   "outputs": [],
   "source": [
    "grouped_df = pd.DataFrame(data_df.groupby([\"location\"]).count()).reset_index()\n",
    "frequency_datapoints = grouped_df [[\"location\", \"value\"]]\n",
    "frequency_datapoints = frequency_datapoints.rename(columns={\"value\":\"Count\"})\n",
    "frequency_datapoints = frequency_datapoints.set_index(\"location\")"
   ]
  },
  {
   "cell_type": "code",
   "execution_count": 8,
   "metadata": {},
   "outputs": [
    {
     "data": {
      "image/png": "[encoded data removed]",
      "text/plain": [
       "<Figure size 720x288 with 1 Axes>"
      ]
     },
     "metadata": {
      "needs_background": "light"
     },
     "output_type": "display_data"
    },
    {
     "data": {
      "text/plain": [
       "<Figure size 432x288 with 0 Axes>"
      ]
     },
     "metadata": {},
     "output_type": "display_data"
    }
   ],
   "source": [
    "frequency_datapoints.plot(kind=\"bar\" , figsize=(10,4))\n",
    "\n",
    "plt.title(\"Life Expectancy\")\n",
    "plt.ylabel(\"count\")\n",
    "plt.xlabel(\"location\")\n",
    "\n",
    "plt.show()\n",
    "plt.tight_layout()"
   ]
  },
  {
   "cell_type": "code",
   "execution_count": 9,
   "metadata": {},
   "outputs": [
    {
     "data": {
      "text/plain": [
       "['AUS',\n",
       " 'AUT',\n",
       " 'BEL',\n",
       " 'BRA',\n",
       " 'CAN',\n",
       " 'CHE',\n",
       " 'CHL',\n",
       " 'CHN',\n",
       " 'COL',\n",
       " 'CRI',\n",
       " 'CZE',\n",
       " 'DEU',\n",
       " 'DNK',\n",
       " 'ESP',\n",
       " 'EST',\n",
       " 'FIN',\n",
       " 'FRA',\n",
       " 'GBR',\n",
       " 'GRC',\n",
       " 'HUN',\n",
       " 'IDN',\n",
       " 'IND',\n",
       " 'IRL',\n",
       " 'ISL',\n",
       " 'ISR',\n",
       " 'ITA',\n",
       " 'JPN',\n",
       " 'KOR',\n",
       " 'LTU',\n",
       " 'LUX',\n",
       " 'LVA',\n",
       " 'MEX',\n",
       " 'NLD',\n",
       " 'NOR',\n",
       " 'NZL',\n",
       " 'POL',\n",
       " 'PRT',\n",
       " 'RUS',\n",
       " 'SVK',\n",
       " 'SVN',\n",
       " 'SWE',\n",
       " 'TUR',\n",
       " 'USA',\n",
       " 'ZAF']"
      ]
     },
     "execution_count": 9,
     "metadata": {},
     "output_type": "execute_result"
    }
   ],
   "source": [
    "location = summary_table.index.tolist()\n",
    "location"
   ]
  },
  {
   "cell_type": "code",
   "execution_count": 10,
   "metadata": {},
   "outputs": [
    {
     "data": {
      "text/plain": [
       "[48,\n",
       " 60,\n",
       " 60,\n",
       " 48,\n",
       " 48,\n",
       " 75,\n",
       " 48,\n",
       " 48,\n",
       " 60,\n",
       " 75,\n",
       " 60,\n",
       " 52,\n",
       " 60,\n",
       " 60,\n",
       " 60,\n",
       " 60,\n",
       " 75,\n",
       " 48,\n",
       " 60,\n",
       " 60,\n",
       " 48,\n",
       " 48,\n",
       " 48,\n",
       " 60,\n",
       " 48,\n",
       " 60,\n",
       " 48,\n",
       " 48,\n",
       " 60,\n",
       " 60,\n",
       " 60,\n",
       " 48,\n",
       " 60,\n",
       " 60,\n",
       " 24,\n",
       " 60,\n",
       " 60,\n",
       " 48,\n",
       " 75,\n",
       " 60,\n",
       " 60,\n",
       " 48,\n",
       " 36,\n",
       " 48]"
      ]
     },
     "execution_count": 10,
     "metadata": {},
     "output_type": "execute_result"
    }
   ],
   "source": [
    "location_count = (data_df.groupby([\"location\"])[\"indicator_x\"].count()).tolist()\n",
    "location_count"
   ]
  },
  {
   "cell_type": "code",
   "execution_count": 11,
   "metadata": {},
   "outputs": [],
   "source": [
    "x_axis = np.arange(len(location_count))"
   ]
  },
  {
   "cell_type": "code",
   "execution_count": 12,
   "metadata": {},
   "outputs": [
    {
     "data": {
      "text/plain": [
       "<BarContainer object of 44 artists>"
      ]
     },
     "execution_count": 12,
     "metadata": {},
     "output_type": "execute_result"
    },
    {
     "data": {
      "image/png": "[encoded data removed]",
      "text/plain": [
       "<Figure size 2880x576 with 1 Axes>"
      ]
     },
     "metadata": {
      "needs_background": "light"
     },
     "output_type": "display_data"
    }
   ],
   "source": [
    "x_axis = location\n",
    "\n",
    "plt.figure(figsize = (40,8))\n",
    "plt.bar(x_axis, location_count, color ='b', alpha=0.8, align=\"edge\")\n",
    "#plt.tight_layout()"
   ]
  },
  {
   "cell_type": "code",
   "execution_count": 24,
   "metadata": {},
   "outputs": [
    {
     "data": {
      "text/html": [
       "<div>\n",
       "<style scoped>\n",
       "    .dataframe tbody tr th:only-of-type {\n",
       "        vertical-align: middle;\n",
       "    }\n",
       "\n",
       "    .dataframe tbody tr th {\n",
       "        vertical-align: top;\n",
       "    }\n",
       "\n",
       "    .dataframe thead th {\n",
       "        text-align: right;\n",
       "    }\n",
       "</style>\n",
       "<table border=\"1\" class=\"dataframe\">\n",
       "  <thead>\n",
       "    <tr style=\"text-align: right;\">\n",
       "      <th></th>\n",
       "      <th>subject_y</th>\n",
       "      <th>frequency_x</th>\n",
       "      <th>indicator_x</th>\n",
       "      <th>location</th>\n",
       "      <th>time_x</th>\n",
       "      <th>value</th>\n",
       "      <th>subject_x</th>\n",
       "      <th>frequency_y</th>\n",
       "      <th>indicator_y</th>\n",
       "      <th>time_y</th>\n",
       "      <th>Value</th>\n",
       "    </tr>\n",
       "  </thead>\n",
       "  <tbody>\n",
       "    <tr>\n",
       "      <th>0</th>\n",
       "      <td>MEN</td>\n",
       "      <td>812</td>\n",
       "      <td>812</td>\n",
       "      <td>812</td>\n",
       "      <td>812</td>\n",
       "      <td>812</td>\n",
       "      <td>812</td>\n",
       "      <td>812</td>\n",
       "      <td>812</td>\n",
       "      <td>812</td>\n",
       "      <td>812</td>\n",
       "    </tr>\n",
       "    <tr>\n",
       "      <th>1</th>\n",
       "      <td>TOT</td>\n",
       "      <td>816</td>\n",
       "      <td>816</td>\n",
       "      <td>816</td>\n",
       "      <td>816</td>\n",
       "      <td>816</td>\n",
       "      <td>816</td>\n",
       "      <td>816</td>\n",
       "      <td>816</td>\n",
       "      <td>816</td>\n",
       "      <td>816</td>\n",
       "    </tr>\n",
       "    <tr>\n",
       "      <th>2</th>\n",
       "      <td>WOMEN</td>\n",
       "      <td>812</td>\n",
       "      <td>812</td>\n",
       "      <td>812</td>\n",
       "      <td>812</td>\n",
       "      <td>812</td>\n",
       "      <td>812</td>\n",
       "      <td>812</td>\n",
       "      <td>812</td>\n",
       "      <td>812</td>\n",
       "      <td>812</td>\n",
       "    </tr>\n",
       "  </tbody>\n",
       "</table>\n",
       "</div>"
      ],
      "text/plain": [
       "  subject_y  frequency_x  indicator_x  location  time_x  value  subject_x  \\\n",
       "0       MEN          812          812       812     812    812        812   \n",
       "1       TOT          816          816       816     816    816        816   \n",
       "2     WOMEN          812          812       812     812    812        812   \n",
       "\n",
       "   frequency_y  indicator_y  time_y  Value  \n",
       "0          812          812     812    812  \n",
       "1          816          816     816    816  \n",
       "2          812          812     812    812  "
      ]
     },
     "execution_count": 24,
     "metadata": {},
     "output_type": "execute_result"
    }
   ],
   "source": [
    "gender_df = pd.DataFrame(data_df.groupby([\"subject_y\"]).count()).reset_index()\n",
    "gender_df.head()"
   ]
  },
  {
   "cell_type": "code",
   "execution_count": 25,
   "metadata": {},
   "outputs": [
    {
     "data": {
      "text/html": [
       "<div>\n",
       "<style scoped>\n",
       "    .dataframe tbody tr th:only-of-type {\n",
       "        vertical-align: middle;\n",
       "    }\n",
       "\n",
       "    .dataframe tbody tr th {\n",
       "        vertical-align: top;\n",
       "    }\n",
       "\n",
       "    .dataframe thead th {\n",
       "        text-align: right;\n",
       "    }\n",
       "</style>\n",
       "<table border=\"1\" class=\"dataframe\">\n",
       "  <thead>\n",
       "    <tr style=\"text-align: right;\">\n",
       "      <th></th>\n",
       "      <th>subject_y</th>\n",
       "      <th>Count</th>\n",
       "    </tr>\n",
       "  </thead>\n",
       "  <tbody>\n",
       "    <tr>\n",
       "      <th>0</th>\n",
       "      <td>MEN</td>\n",
       "      <td>812</td>\n",
       "    </tr>\n",
       "    <tr>\n",
       "      <th>1</th>\n",
       "      <td>TOT</td>\n",
       "      <td>816</td>\n",
       "    </tr>\n",
       "    <tr>\n",
       "      <th>2</th>\n",
       "      <td>WOMEN</td>\n",
       "      <td>812</td>\n",
       "    </tr>\n",
       "  </tbody>\n",
       "</table>\n",
       "</div>"
      ],
      "text/plain": [
       "  subject_y  Count\n",
       "0       MEN    812\n",
       "1       TOT    816\n",
       "2     WOMEN    812"
      ]
     },
     "execution_count": 25,
     "metadata": {},
     "output_type": "execute_result"
    }
   ],
   "source": [
    "gender_df = gender_df[[\"subject_y\", \"location\"]]\n",
    "gender_df = gender_df.rename(columns={\"location\":\"Count\"})\n",
    "gender_df.head()"
   ]
  },
  {
   "cell_type": "code",
   "execution_count": 28,
   "metadata": {},
   "outputs": [
    {
     "data": {
      "text/plain": [
       "<matplotlib.axes._subplots.AxesSubplot at 0x22be7c86c50>"
      ]
     },
     "execution_count": 28,
     "metadata": {},
     "output_type": "execute_result"
    },
    {
     "data": {
      "image/png": "[encoded data removed]",
      "text/plain": [
       "<Figure size 1440x1152 with 1 Axes>"
      ]
     },
     "metadata": {},
     "output_type": "display_data"
    }
   ],
   "source": [
    "plt.figure(figsize=(20,16))\n",
    "ax1 = plt.subplot(121, aspect='equal')\n",
    "gender_df.plot(kind='pie', y = \"Count\", ax=ax1, autopct='%1.1f%%',startangle=90, shadow=False, labels=gender_df['subject_y'], legend=False, fontsize=16)"
   ]
  }
 ],
 "metadata": {
  "kernelspec": {
   "display_name": "Python [conda env:PythonData]",
   "language": "python",
   "name": "conda-env-PythonData-py"
  },
  "language_info": {
   "codemirror_mode": {
    "name": "ipython",
    "version": 3
   },
   "file_extension": ".py",
   "mimetype": "text/x-python",
   "name": "python",
   "nbconvert_exporter": "python",
   "pygments_lexer": "ipython3",
   "version": "3.6.10"
  }
 },
 "nbformat": 4,
 "nbformat_minor": 4
}
